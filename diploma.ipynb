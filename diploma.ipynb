{
 "cells": [
  {
   "cell_type": "code",
   "execution_count": 1,
   "metadata": {
    "collapsed": true
   },
   "outputs": [],
   "source": [
    "import numpy as np\n",
    "from collections import defaultdict\n",
    "from scipy.linalg import orth\n",
    "from sklearn.decomposition import PCA\n",
    "import matplotlib\n",
    "import matplotlib.pyplot as plt\n",
    "from sklearn import linear_model\n",
    "from IPython.display import clear_output\n",
    "\n",
    "%matplotlib inline "
   ]
  },
  {
   "cell_type": "code",
   "execution_count": 2,
   "metadata": {
    "collapsed": false
   },
   "outputs": [],
   "source": [
    "class Manifold(object):\n",
    "    \n",
    "    def __init__(self, p, q):\n",
    "        self.saved_UdU_T = defaultdict()\n",
    "        self.p = p\n",
    "        self.q = q\n",
    "\n",
    "    \n",
    "    def generate_equation(self, x, index):\n",
    "        try: \n",
    "            UdU_T = self.saved_UdU_T[index]\n",
    "        except KeyError:\n",
    "            d = np.diag(np.random.uniform(-1, 1,  self.q))\n",
    "            U = orth(np.random.normal(0, 1, (self.q, self.q)))\n",
    "            UdU_T = U.dot(d).dot(U.T)\n",
    "            self.saved_UdU_T[index] = UdU_T\n",
    "        return x.T.dot(UdU_T).dot(x)\n",
    "    \n",
    "    \n",
    "\n",
    "def generate_sample(x_0, p, q, N, manifold, eps):\n",
    "    generated_sample = []\n",
    "    for n in range(N):\n",
    "        x = np.zeros(p)\n",
    "        for i in range(q):\n",
    "            x[i] = np.random.uniform(x_0[i] - eps, x_0[i] + eps)\n",
    "        for j in range(q, p):\n",
    "            x[j] = manifold.generate_equation(x[:q], j)\n",
    "        generated_sample.append(x)\n",
    "    return np.array(generated_sample)\n",
    "\n",
    "\n",
    "class Function(object):\n",
    "    \n",
    "    def __init__(self, q):\n",
    "        self.q = q\n",
    "\n",
    "    def func(self, x):\n",
    "        result = 0\n",
    "        for i in range(q):\n",
    "            if i % 2:\n",
    "                result += np.exp(x[i]) * (i + 1)\n",
    "            else:\n",
    "                result += np.sin(x[i]) * (i + 1)\n",
    "        return result\n",
    "\n",
    "    def grad(self, x):\n",
    "        result = np.zeros(q)\n",
    "        for i in range(self.q):\n",
    "            if i % 2:\n",
    "                result[i] = np.exp(x[i]) * (i + 1)\n",
    "            else:\n",
    "                result[i] = np.cos(x[i]) * (i + 1)\n",
    "        return result\n",
    "\n",
    "\n",
    "def find_real_grad_V(real_grad, V):\n",
    "    real_grad_V = []\n",
    "    for v in V:\n",
    "        real_grad_v = 0\n",
    "        for i, grad in enumerate(real_grad):\n",
    "            real_grad_v += v[i] * grad\n",
    "        real_grad_V.append(real_grad_v)\n",
    "    return np.array(real_grad_V)\n",
    "            \n",
    "    \n",
    "def find_error(p, q, N, eps, x_0, manifold):\n",
    "    f = Function(q)\n",
    "    X = generate_sample(x_0, p, q, N, manifold, eps)\n",
    "    pca = PCA(n_components = q)\n",
    "    W = pca.fit_transform(X)\n",
    "    V = pca.components_  \n",
    "\n",
    "\n",
    "    b = np.array([f.func(x) - f.func(x_0) for x in X]).T\n",
    "\n",
    "    estimated_grad = np.linalg.lstsq(W,  b)[0]\n",
    "    \n",
    "    real_grad = find_real_grad_V(f.grad(x_0), V)\n",
    "\n",
    "    error = np.linalg.norm(estimated_grad - real_grad)\n",
    "    return error\n"
   ]
  },
  {
   "cell_type": "code",
   "execution_count": 3,
   "metadata": {
    "collapsed": true
   },
   "outputs": [],
   "source": [
    "def find_coefficients(parameters, values):\n",
    "    parameters = np.log2(parameters)\n",
    "    values = np.log2(values)\n",
    "\n",
    "    X = np.vstack((np.ones(np.shape(parameters)), parameters)).transpose()\n",
    "\n",
    "    # Create linear regression object\n",
    "    model = linear_model.LinearRegression(fit_intercept = False)\n",
    "\n",
    "    # Train the model using the training sets\n",
    "    model.fit(X, values)\n",
    "    \n",
    "    # The coefficients\n",
    "    print('Coefficients: \\n', model.coef_)\n",
    "    # The mean squared error\n",
    "    print(\"Mean squared error: %.2f\"\n",
    "          % np.mean((model.predict(X) - values) ** 2))\n",
    "    # Explained variance score: 1 is perfect prediction\n",
    "    print('Variance score: %.2f' % model.score(X, values))"
   ]
  },
  {
   "cell_type": "markdown",
   "metadata": {},
   "source": [
    "# Зависимость ошибки от эпсилон"
   ]
  },
  {
   "cell_type": "code",
   "execution_count": 4,
   "metadata": {
    "collapsed": true
   },
   "outputs": [],
   "source": [
    "p = 3\n",
    "q = 2\n",
    "N = 3\n",
    "manifold = Manifold(p, q)\n",
    "x_0 = np.zeros(p)"
   ]
  },
  {
   "cell_type": "code",
   "execution_count": 5,
   "metadata": {
    "collapsed": false
   },
   "outputs": [
    {
     "name": "stdout",
     "output_type": "stream",
     "text": [
      "19\n"
     ]
    }
   ],
   "source": [
    "\n",
    "errors_eps = []\n",
    "epsilons = []\n",
    "std_eps = []\n",
    "\n",
    "for i in range(1, 20):\n",
    "    eps = np.power(2., -i)\n",
    "    clear_output()\n",
    "    print(i)\n",
    "\n",
    "    temp_errors = []\n",
    "    for j in range(1000):\n",
    "        error = find_error(p, q, N, eps, x_0, manifold)\n",
    "        temp_errors.append(error)\n",
    "    epsilons.append(eps)\n",
    "    errors_eps.append(np.mean(temp_errors))\n",
    "    std_eps.append(np.sqrt(np.var(temp_errors)))\n",
    "\n",
    "epsilons = np.array(epsilons)\n",
    "errors_eps = np.array(errors_eps)\n",
    "std_eps = np.array(std_eps)"
   ]
  },
  {
   "cell_type": "code",
   "execution_count": 6,
   "metadata": {
    "collapsed": false
   },
   "outputs": [
    {
     "data": {
      "image/png": "[encoded data removed]",
      "text/plain": [
       "<matplotlib.figure.Figure at 0x10f151e48>"
      ]
     },
     "metadata": {},
     "output_type": "display_data"
    }
   ],
   "source": [
    "plt.plot(epsilons,errors_eps, linewidth=2.0, ms=12.0, \n",
    "         alpha=1.0, c='b')\n",
    "plt.fill_between(epsilons, errors_eps + std_eps, errors_eps - std_eps , alpha = 0.2, facecolor='green')\n",
    "\n",
    "plt.title('p = 3, q = 2, N = 3')\n",
    "plt.xlabel('eps')\n",
    "plt.ylabel('estimation error')\n",
    "plt.xscale('log')\n",
    "plt.yscale('log')"
   ]
  },
  {
   "cell_type": "code",
   "execution_count": 8,
   "metadata": {
    "collapsed": false
   },
   "outputs": [
    {
     "name": "stdout",
     "output_type": "stream",
     "text": [
      "Coefficients: \n",
      " [ 0.44401236  0.95274136]\n",
      "Mean squared error: 0.12\n",
      "Variance score: 1.00\n"
     ]
    },
    {
     "name": "stderr",
     "output_type": "stream",
     "text": [
      "/Users/illarionPetrov/anaconda2/envs/py3k/lib/python3.6/site-packages/scipy/linalg/basic.py:1018: RuntimeWarning: internal gelsd driver lwork query error, required iwork dimension not returned. This is likely the result of LAPACK bug 0038, fixed in LAPACK 3.2.2 (released July 21, 2010). Falling back to 'gelss' driver.\n",
      "  warnings.warn(mesg, RuntimeWarning)\n"
     ]
    }
   ],
   "source": [
    "find_coefficients(epsilons,errors_eps)"
   ]
  },
  {
   "cell_type": "markdown",
   "metadata": {},
   "source": [
    "# Зависимость ошибки от N"
   ]
  },
  {
   "cell_type": "code",
   "execution_count": 27,
   "metadata": {
    "collapsed": true
   },
   "outputs": [],
   "source": [
    "p = 3\n",
    "q = 2\n",
    "eps = 1e-2\n",
    "manifold = Manifold(p, q)\n",
    "x_0 = np.zeros(p)"
   ]
  },
  {
   "cell_type": "code",
   "execution_count": 28,
   "metadata": {
    "collapsed": false
   },
   "outputs": [
    {
     "name": "stdout",
     "output_type": "stream",
     "text": [
      "5120\n"
     ]
    }
   ],
   "source": [
    "errors_N = []\n",
    "N_array = []\n",
    "std_N = []\n",
    "\n",
    "for i in range(10):\n",
    "    N = 10 * np.power(2, i)\n",
    "    clear_output()\n",
    "    print(N)\n",
    "\n",
    "    temp_errors = []\n",
    "    for j in range(100):\n",
    "        error = find_error(p, q, N, eps, x_0, manifold)\n",
    "        temp_errors.append(error)\n",
    "    N_array.append(N)\n",
    "    errors_N.append(np.mean(temp_errors))\n",
    "    std_N.append(np.sqrt(np.var(temp_errors)))\n",
    "\n",
    "epsilons = np.array(epsilons)\n",
    "errors_N = np.array(errors_N)\n",
    "std_N = np.array(std_N)"
   ]
  },
  {
   "cell_type": "code",
   "execution_count": 29,
   "metadata": {
    "collapsed": false
   },
   "outputs": [
    {
     "data": {
      "image/png": "[encoded data removed]",
      "text/plain": [
       "<matplotlib.figure.Figure at 0x119c90748>"
      ]
     },
     "metadata": {},
     "output_type": "display_data"
    }
   ],
   "source": [
    "plt.plot(N_array, errors_N, linewidth=2.0, ms=12.0, \n",
    "         alpha=1.0, c='b')\n",
    "plt.fill_between(N_array, errors_N + std_N, errors_N - std_N , alpha = 0.2, facecolor='green')\n",
    "\n",
    "plt.title('p = 3, q = 2, eps = 1e-2')\n",
    "plt.xlabel('N')\n",
    "plt.ylabel('estimation error')\n",
    "plt.yscale('log')\n",
    "plt.xscale('log')"
   ]
  },
  {
   "cell_type": "code",
   "execution_count": 30,
   "metadata": {
    "collapsed": false
   },
   "outputs": [
    {
     "name": "stdout",
     "output_type": "stream",
     "text": [
      "Coefficients: \n",
      " [-6.89047717 -0.51138758]\n",
      "Mean squared error: 0.01\n",
      "Variance score: 1.00\n"
     ]
    }
   ],
   "source": [
    "find_coefficients(N_array,errors_N)"
   ]
  },
  {
   "cell_type": "markdown",
   "metadata": {},
   "source": [
    "# Зависимость ошибки от q"
   ]
  },
  {
   "cell_type": "code",
   "execution_count": 13,
   "metadata": {
    "collapsed": true
   },
   "outputs": [],
   "source": [
    "p = 100\n",
    "eps = 1e-2\n",
    "N = 200\n",
    "\n",
    "x_0 = np.zeros(p)"
   ]
  },
  {
   "cell_type": "code",
   "execution_count": 14,
   "metadata": {
    "collapsed": false
   },
   "outputs": [
    {
     "name": "stdout",
     "output_type": "stream",
     "text": [
      "89\n"
     ]
    }
   ],
   "source": [
    "errors_q = []\n",
    "q_array = []\n",
    "std_q = []\n",
    "\n",
    "\n",
    "for q in np.arange(2, 90):\n",
    "    clear_output()\n",
    "    print(q)\n",
    "    manifold = Manifold(p, q)\n",
    "#     eps = np.power(N, -1/(q+2))\n",
    "\n",
    "    q_array.append(q)\n",
    "    \n",
    "    temp_errors = []\n",
    "    for j in range(10):\n",
    "        error = find_error(p, q, N, eps, x_0, manifold)\n",
    "        temp_errors.append(error)\n",
    "    errors_q.append(np.mean(temp_errors))\n",
    "    std_q.append(np.sqrt(np.var(temp_errors)))\n",
    "\n",
    "epsilons = np.array(epsilons)\n",
    "errors_q = np.array(errors_q)\n",
    "std_q = np.array(std_q)"
   ]
  },
  {
   "cell_type": "code",
   "execution_count": 16,
   "metadata": {
    "collapsed": false
   },
   "outputs": [
    {
     "data": {
      "image/png": "[encoded data removed]",
      "text/plain": [
       "<matplotlib.figure.Figure at 0x118f6f208>"
      ]
     },
     "metadata": {},
     "output_type": "display_data"
    }
   ],
   "source": [
    "plt.plot( q_array , errors_q, linewidth=2.0, ms=12.0, \n",
    "         alpha=1.0, c='b')\n",
    "plt.fill_between(q_array, errors_q + std_q, errors_q - std_q , alpha = 0.2, facecolor='green')\n",
    "\n",
    "plt.title('p = 100, N = 100, eps = 1e-2')\n",
    "plt.xlabel('q')\n",
    "plt.ylabel('estimation error')\n",
    "plt.xscale('log')\n",
    "plt.yscale('log')"
   ]
  },
  {
   "cell_type": "code",
   "execution_count": 17,
   "metadata": {
    "collapsed": false
   },
   "outputs": [
    {
     "name": "stdout",
     "output_type": "stream",
     "text": [
      "Coefficients: \n",
      " [-13.73333596   2.04986403]\n",
      "Mean squared error: 0.01\n",
      "Variance score: 1.00\n"
     ]
    }
   ],
   "source": [
    "find_coefficients(q_array, errors_q)"
   ]
  },
  {
   "cell_type": "markdown",
   "metadata": {},
   "source": [
    "# Зависимость ошибки от p"
   ]
  },
  {
   "cell_type": "code",
   "execution_count": 18,
   "metadata": {
    "collapsed": true
   },
   "outputs": [],
   "source": [
    "q = 5\n",
    "eps = 1e-2\n",
    "N = 100\n",
    "\n",
    "x_0 = np.zeros(p)"
   ]
  },
  {
   "cell_type": "code",
   "execution_count": 19,
   "metadata": {
    "collapsed": false
   },
   "outputs": [
    {
     "name": "stdout",
     "output_type": "stream",
     "text": [
      "988\n"
     ]
    }
   ],
   "source": [
    "errors_p = []\n",
    "p_array = []\n",
    "std_p = []\n",
    "\n",
    "for p in np.arange(8, 1000, 20):\n",
    "    clear_output()\n",
    "    print(p)\n",
    "    manifold = Manifold(p, q)\n",
    "    p_array.append(p)\n",
    "    \n",
    "    temp_errors = []\n",
    "    for j in range(10):\n",
    "        error = find_error(p, q, N, eps, x_0, manifold)\n",
    "        temp_errors.append(error)\n",
    "    errors_p.append(np.mean(temp_errors))\n",
    "    std_p.append(np.sqrt(np.var(temp_errors)))\n",
    "\n",
    "epsilons = np.array(epsilons)\n",
    "errors_p = np.array(errors_p)\n",
    "std_p = np.array(std_p)\n"
   ]
  },
  {
   "cell_type": "code",
   "execution_count": 20,
   "metadata": {
    "collapsed": false
   },
   "outputs": [
    {
     "data": {
      "text/plain": [
       "<matplotlib.text.Text at 0x118a77940>"
      ]
     },
     "execution_count": 20,
     "metadata": {},
     "output_type": "execute_result"
    },
    {
     "data": {
      "image/png": "[encoded data removed]",
      "text/plain": [
       "<matplotlib.figure.Figure at 0x118b4f198>"
      ]
     },
     "metadata": {},
     "output_type": "display_data"
    }
   ],
   "source": [
    "plt.plot(p_array, errors_p, linewidth=2.0, ms=12.0, \n",
    "         alpha=1.0, c='b')\n",
    "plt.fill_between(p_array, errors_p + std_p, errors_p - std_p, alpha = 0.2, facecolor='green')\n",
    "\n",
    "plt.title('q = 5, N = 100, eps = 1e-2')\n",
    "plt.xlabel('p')\n",
    "plt.ylabel('estimation error')\n"
   ]
  },
  {
   "cell_type": "code",
   "execution_count": 21,
   "metadata": {
    "collapsed": false
   },
   "outputs": [
    {
     "name": "stdout",
     "output_type": "stream",
     "text": [
      "Coefficients: \n",
      " [-8.75135252  0.02485033]\n",
      "Mean squared error: 0.02\n",
      "Variance score: 0.05\n"
     ]
    }
   ],
   "source": [
    "find_coefficients(p_array, errors_p)"
   ]
  },
  {
   "cell_type": "code",
   "execution_count": null,
   "metadata": {
    "collapsed": true
   },
   "outputs": [],
   "source": []
  },
  {
   "cell_type": "code",
   "execution_count": null,
   "metadata": {
    "collapsed": true
   },
   "outputs": [],
   "source": []
  },
  {
   "cell_type": "code",
   "execution_count": null,
   "metadata": {
    "collapsed": true
   },
   "outputs": [],
   "source": []
  },
  {
   "cell_type": "code",
   "execution_count": null,
   "metadata": {
    "collapsed": true
   },
   "outputs": [],
   "source": []
  }
 ],
 "metadata": {
  "kernelspec": {
   "display_name": "Python [conda env:py3k]",
   "language": "python",
   "name": "conda-env-py3k-py"
  },
  "language_info": {
   "codemirror_mode": {
    "name": "ipython",
    "version": 3
   },
   "file_extension": ".py",
   "mimetype": "text/x-python",
   "name": "python",
   "nbconvert_exporter": "python",
   "pygments_lexer": "ipython3",
   "version": "3.6.0"
  }
 },
 "nbformat": 4,
 "nbformat_minor": 2
}
